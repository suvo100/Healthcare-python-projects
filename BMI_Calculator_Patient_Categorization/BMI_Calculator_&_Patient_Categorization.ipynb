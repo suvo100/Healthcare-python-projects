{
  "nbformat": 4,
  "nbformat_minor": 0,
  "metadata": {
    "colab": {
      "provenance": []
    },
    "kernelspec": {
      "name": "python3",
      "display_name": "Python 3"
    },
    "language_info": {
      "name": "python"
    }
  },
  "cells": [
    {
      "cell_type": "markdown",
      "source": [
        "### Step 1: Create a new dataset manually\n",
        "\n"
      ],
      "metadata": {
        "id": "lubLMS9wr41t"
      }
    },
    {
      "cell_type": "code",
      "source": [
        "pip install Faker"
      ],
      "metadata": {
        "colab": {
          "base_uri": "https://localhost:8080/"
        },
        "id": "zwZsd0dcs8on",
        "outputId": "9810e204-ca51-4f6f-895d-14eacf4a3611"
      },
      "execution_count": 3,
      "outputs": [
        {
          "output_type": "stream",
          "name": "stdout",
          "text": [
            "Collecting Faker\n",
            "  Downloading faker-37.5.3-py3-none-any.whl.metadata (15 kB)\n",
            "Requirement already satisfied: tzdata in /usr/local/lib/python3.12/dist-packages (from Faker) (2025.2)\n",
            "Downloading faker-37.5.3-py3-none-any.whl (1.9 MB)\n",
            "\u001b[2K   \u001b[90m━━━━━━━━━━━━━━━━━━━━━━━━━━━━━━━━━━━━━━━━\u001b[0m \u001b[32m1.9/1.9 MB\u001b[0m \u001b[31m19.1 MB/s\u001b[0m eta \u001b[36m0:00:00\u001b[0m\n",
            "\u001b[?25hInstalling collected packages: Faker\n",
            "Successfully installed Faker-37.5.3\n"
          ]
        }
      ]
    },
    {
      "cell_type": "code",
      "source": [
        "# To create random names, weights and heights. We can use faker function in Numpy\n",
        "\n",
        "import numpy as np\n",
        "import pandas as pd\n",
        "from faker import Faker\n",
        "fake = Faker()"
      ],
      "metadata": {
        "id": "605kJ2bPRsCA"
      },
      "execution_count": 4,
      "outputs": []
    },
    {
      "cell_type": "code",
      "execution_count": 6,
      "metadata": {
        "colab": {
          "base_uri": "https://localhost:8080/"
        },
        "id": "lk7DpXYOrscE",
        "outputId": "7631fe61-c2c0-452c-8cec-dfd9e219238a"
      },
      "outputs": [
        {
          "output_type": "stream",
          "name": "stdout",
          "text": [
            "     Patient Name  Weights (kg)  Heights (cm)\n",
            "0     Marc Farmer            64           156\n",
            "1      Eric Brown            46           215\n",
            "2    Patricia Kim            49           218\n",
            "3      Erin Moore            89           209\n",
            "4  David Combs MD            89           160\n"
          ]
        }
      ],
      "source": [
        "# Generate 20 fake patients\n",
        "n = 20\n",
        "patients = [fake.name() for i in range(n)]\n",
        "weights = np.random.randint(45, 100, n) # kg\n",
        "heights = np.random.randint(140, 220, n) # cm\n",
        "\n",
        "df_data = pd.DataFrame({\n",
        "    \"Patient Name\":patients,\n",
        "    \"Weights (kg)\": weights,\n",
        "    \"Heights (cm)\": heights\n",
        "})\n",
        "df_data.to_csv(\"patients_data.csv\", index=False)\n",
        "print(df_data.head())"
      ]
    },
    {
      "cell_type": "markdown",
      "source": [
        "index = true gives includes index number when converting from df to csv. The heading will start as ','. Then first row will have 0 as 1st element and it goes on to 19 since it has 20 rows\n",
        "\n",
        "Currently as index=false. It gives values as:\n",
        "Patient Name,Weights (kg),Heights (cm)  \n",
        "Mr. Jeffery Faulkner DDS,46,199  \n",
        "Christopher Sanders,88,199  \n",
        "Mrs. Jessica Carson,62,152  \n",
        "...  \n",
        "In the CSV it will reflect same\n",
        "\n",
        "But, if index=true. The values would be:\n",
        "',' ,Patient Name,Weights (kg),Heights (cm)  \n",
        "0,Mr. Jeffery Faulkner DDS,46,199  \n",
        "1,Christopher Sanders,88,199  \n",
        "2,Mrs. Jessica Carson,62,152  \n",
        "...  \n",
        "In the CSV it will reflect an extra column as mentioned above\n",
        "\n"
      ],
      "metadata": {
        "id": "pBfbS-1AzLLg"
      }
    },
    {
      "cell_type": "markdown",
      "source": [
        "### Step 2: Read the csv and extract columns as Numpy arrays"
      ],
      "metadata": {
        "id": "XPAN1YIJEifd"
      }
    },
    {
      "cell_type": "code",
      "source": [
        "df = pd.read_csv(\"patients_data.csv\")\n",
        "\n",
        "print(df.head())"
      ],
      "metadata": {
        "id": "xiILfSxEszJR",
        "colab": {
          "base_uri": "https://localhost:8080/"
        },
        "outputId": "f3595aeb-b6b5-4898-c5d9-0451bd8e310c"
      },
      "execution_count": 7,
      "outputs": [
        {
          "output_type": "stream",
          "name": "stdout",
          "text": [
            "     Patient Name  Weights (kg)  Heights (cm)\n",
            "0     Marc Farmer            64           156\n",
            "1      Eric Brown            46           215\n",
            "2    Patricia Kim            49           218\n",
            "3      Erin Moore            89           209\n",
            "4  David Combs MD            89           160\n"
          ]
        }
      ]
    },
    {
      "cell_type": "code",
      "source": [
        "patient_names = df[\"Patient Name\"].values  # String array\n",
        "patient_weights = df[\"Weights (kg)\"].values  # Float/Int array\n",
        "patient_heights = df[\"Heights (cm)\"].values  # Float array\n",
        "patient_heights_m = patient_heights / 100\n",
        "\n",
        "print('Patients names are:',patient_names[:5])\n",
        "print('Patients weights are:',patient_weights[:5])\n",
        "print('Patients heights are:',patient_heights_m[:5])"
      ],
      "metadata": {
        "colab": {
          "base_uri": "https://localhost:8080/"
        },
        "id": "aHmG-XwcAOGv",
        "outputId": "b37cc3fa-f321-443d-e349-68e9008e99f4"
      },
      "execution_count": 9,
      "outputs": [
        {
          "output_type": "stream",
          "name": "stdout",
          "text": [
            "Patients names are: ['Marc Farmer' 'Eric Brown' 'Patricia Kim' 'Erin Moore' 'David Combs MD']\n",
            "Patients weights are: [64 46 49 89 89]\n",
            "Patients heights are: [1.56 2.15 2.18 2.09 1.6 ]\n"
          ]
        }
      ]
    },
    {
      "cell_type": "markdown",
      "source": [
        "### Step 3: Calculate BMI for the whole array"
      ],
      "metadata": {
        "id": "M9xEOVvWU_3d"
      }
    },
    {
      "cell_type": "code",
      "metadata": {
        "colab": {
          "base_uri": "https://localhost:8080/"
        },
        "id": "0baa36b8",
        "outputId": "0c85ef49-f7b1-40f9-a755-bc3140fe1f48"
      },
      "source": [
        "bmi = patient_weights / (patient_heights_m ** 2)\n",
        "print(bmi)"
      ],
      "execution_count": 10,
      "outputs": [
        {
          "output_type": "stream",
          "name": "stdout",
          "text": [
            "[26.29848784  9.95132504 10.31057992 20.37499142 34.765625   22.28259211\n",
            " 16.9865806  30.99173554  9.85939643 26.89767019 20.23950076 20.38156971\n",
            " 46.42857143 25.390625   15.78848148 28.37821519 21.27600011 12.49872462\n",
            " 10.69962442 26.31506812]\n"
          ]
        }
      ]
    },
    {
      "cell_type": "markdown",
      "source": [
        "### Step 4: Categorize BMI ranges for the population using np.where()"
      ],
      "metadata": {
        "id": "a2WybhFYUqFQ"
      }
    },
    {
      "cell_type": "code",
      "source": [
        "# Step 4: Categorize BMI using np.where()\n",
        "categories = np.where(bmi < 18.5, \"Underweight\",\n",
        "              np.where(bmi < 25, \"Normal\",\n",
        "              np.where(bmi < 30, \"Overweight\", \"Obese\")))\n"
      ],
      "metadata": {
        "id": "Kpqg0A1QC_3Y"
      },
      "execution_count": 11,
      "outputs": []
    },
    {
      "cell_type": "code",
      "source": [
        "# Step 4: Calculate category counts & percentages\n",
        "labels, counts = np.unique(categories, return_counts=True)\n",
        "percentages = (counts / len(categories)) * 100"
      ],
      "metadata": {
        "id": "HPEoIlYGNJOg"
      },
      "execution_count": 12,
      "outputs": []
    },
    {
      "cell_type": "markdown",
      "source": [
        "### Step 5: Display Results"
      ],
      "metadata": {
        "id": "xKuLDdK4RGrv"
      }
    },
    {
      "cell_type": "code",
      "source": [
        "# Step 7: Display results\n",
        "print(\"=== Patient BMI Categories ===\")\n",
        "for name, b, cat in zip(patient_names, bmi, categories):\n",
        "    print(f\"{name}: BMI={b:.2f} → {cat}\")"
      ],
      "metadata": {
        "id": "e0_od27hNMuC",
        "colab": {
          "base_uri": "https://localhost:8080/"
        },
        "outputId": "81389f7d-1f46-48d4-af2c-d12a2acfdc23"
      },
      "execution_count": 13,
      "outputs": [
        {
          "output_type": "stream",
          "name": "stdout",
          "text": [
            "=== Patient BMI Categories ===\n",
            "Marc Farmer: BMI=26.30 → Overweight\n",
            "Eric Brown: BMI=9.95 → Underweight\n",
            "Patricia Kim: BMI=10.31 → Underweight\n",
            "Erin Moore: BMI=20.37 → Normal\n",
            "David Combs MD: BMI=34.77 → Obese\n",
            "Austin Wright: BMI=22.28 → Normal\n",
            "Mr. Daniel Wright MD: BMI=16.99 → Underweight\n",
            "Morgan Smith: BMI=30.99 → Obese\n",
            "Jeremy Warren: BMI=9.86 → Underweight\n",
            "Carl Ward: BMI=26.90 → Overweight\n",
            "Heather Robinson: BMI=20.24 → Normal\n",
            "Victoria Harris: BMI=20.38 → Normal\n",
            "Mr. Allen Thomas Jr.: BMI=46.43 → Obese\n",
            "Pamela Campbell: BMI=25.39 → Overweight\n",
            "Tracy Johns: BMI=15.79 → Underweight\n",
            "Nicole Williams DDS: BMI=28.38 → Overweight\n",
            "Anna Terry: BMI=21.28 → Normal\n",
            "Nathan Patterson: BMI=12.50 → Underweight\n",
            "Renee Moon: BMI=10.70 → Underweight\n",
            "Laura Hill: BMI=26.32 → Overweight\n"
          ]
        }
      ]
    },
    {
      "cell_type": "code",
      "source": [
        "print(\"\\n=== Category Distribution ===\")\n",
        "for label, count, perc in zip(labels, counts, percentages):\n",
        "    print(f\"{label}: {count} patients ({perc:.1f}%)\")"
      ],
      "metadata": {
        "id": "362JY2D1NZ-R",
        "colab": {
          "base_uri": "https://localhost:8080/"
        },
        "outputId": "f3992c5b-2940-469b-80be-39419c8306a3"
      },
      "execution_count": 14,
      "outputs": [
        {
          "output_type": "stream",
          "name": "stdout",
          "text": [
            "\n",
            "=== Category Distribution ===\n",
            "Normal: 5 patients (25.0%)\n",
            "Obese: 3 patients (15.0%)\n",
            "Overweight: 5 patients (25.0%)\n",
            "Underweight: 7 patients (35.0%)\n"
          ]
        }
      ]
    }
  ]
}